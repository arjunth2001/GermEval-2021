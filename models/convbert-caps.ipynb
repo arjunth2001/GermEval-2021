{
 "cells": [
  {
   "cell_type": "code",
   "execution_count": 1,
   "id": "afc3ff6d-2e16-461d-b59f-731bdff3b8bd",
   "metadata": {},
   "outputs": [],
   "source": [
    "import os\n",
    "from silence_tensorflow import silence_tensorflow\n",
    "import numpy as np\n",
    "from transformers import TFAutoModel\n",
    "from sklearn import metrics\n",
    "import pandas as pd\n",
    "import tensorflow as tf\n",
    "from tensorflow.keras.layers import Dense, Input, Concatenate\n",
    "from tensorflow.keras.optimizers import Adam\n",
    "from tensorflow.keras.models import Model\n",
    "from tensorflow.keras.callbacks import ModelCheckpoint\n",
    "from transformers import TFAutoModel, AutoTokenizer\n",
    "from tqdm.notebook import tqdm\n",
    "from tokenizers import Tokenizer, models, pre_tokenizers, decoders, processors\n",
    "from sklearn.model_selection import train_test_split\n",
    "from sklearn.metrics import roc_auc_score\n",
    "from sklearn.linear_model import LinearRegression\n",
    "from sklearn.preprocessing import StandardScaler\n",
    "from tensorflow.keras.layers import Dropout, Conv1D, Embedding, SpatialDropout1D, concatenate, MaxPool1D\n",
    "from tensorflow.keras.layers import GRU, LSTM,Bidirectional, GlobalAveragePooling1D, GlobalMaxPooling1D,MaxPooling1D, Flatten\n",
    "from tensorflow.keras.layers import LSTM, GRU, Dropout\n",
    "from tensorflow.keras import backend as K\n",
    "from sklearn.model_selection import KFold\n",
    "from tensorflow.keras.callbacks import Callback\n",
    "from tensorflow.keras import optimizers\n",
    "from tensorflow.keras.layers import Lambda\n",
    "import warnings\n",
    "from transformers import BertTokenizer\n",
    "from transformers import TFBertModel\n",
    "from tensorflow.keras.preprocessing.sequence import pad_sequences\n",
    "from tqdm.notebook import tqdm\n",
    "import gc\n",
    "silence_tensorflow()\n",
    "warnings.filterwarnings('ignore')\n",
    "np.random.seed(21)"
   ]
  },
  {
   "cell_type": "code",
   "execution_count": 2,
   "id": "e35d5fb3-ce63-435d-b8c1-c5c3a9f40241",
   "metadata": {},
   "outputs": [
    {
     "data": {
      "application/vnd.jupyter.widget-view+json": {
       "model_id": "ea3c9bbcd25a4e0c850386fe4bf072d2",
       "version_major": 2,
       "version_minor": 0
      },
      "text/plain": [
       "Downloading:   0%|          | 0.00/247k [00:00<?, ?B/s]"
      ]
     },
     "metadata": {},
     "output_type": "display_data"
    },
    {
     "data": {
      "application/vnd.jupyter.widget-view+json": {
       "model_id": "a48068d353c54c50a1428f9361067788",
       "version_major": 2,
       "version_minor": 0
      },
      "text/plain": [
       "Downloading:   0%|          | 0.00/59.0 [00:00<?, ?B/s]"
      ]
     },
     "metadata": {},
     "output_type": "display_data"
    }
   ],
   "source": [
    "BATCH_SIZE = 32\n",
    "bert_model_name = 'dbmdz/convbert-base-german-europeana-cased'\n",
    "tokenizer = AutoTokenizer.from_pretrained(bert_model_name, do_lower_case=True)\n",
    "MAX_LEN = 512"
   ]
  },
  {
   "cell_type": "code",
   "execution_count": 3,
   "id": "2d3dc5ad-3055-4002-a06e-beee4e7da620",
   "metadata": {},
   "outputs": [],
   "source": [
    "train =pd.read_csv(\"../data/train_ft.csv\")\n",
    "train_aug=pd.read_csv(\"../data/itrain_aug.csv\") # Augmentation ...\n",
    "train=train.append(train_aug[train_aug[\"Sub1_Toxic\"]==1].sample(600),ignore_index=True)\n",
    "train.drop_duplicates('text',inplace=True)\n",
    "train.reset_index(drop=True, inplace=True)\n",
    "test=pd.read_csv(\"../data/test_ft.csv\")\n",
    "FEATURES=['readability','!','?',\"caps_vs_length\",\"Partizip II\",\"Präteritum_ich\",\"punc\",\"error\",'Präsens_ich',\"present\",\"future\",'words_vs_unique',\"pos\",\"neg\",\"num_urls\",\"mod\",\"emoji\",\"certainity\",\"uncertainity\",\"num_words\"]\n",
    "features = train[FEATURES].fillna(0)\n",
    "test_features = test[FEATURES].fillna(0)\n",
    "ss = StandardScaler()\n",
    "ss.fit(np.vstack((features, test_features)))\n",
    "features = ss.transform(features)\n",
    "test_features = ss.transform(test_features)"
   ]
  },
  {
   "cell_type": "code",
   "execution_count": 4,
   "id": "a437adf5-c815-4ff9-b669-88eb90428879",
   "metadata": {},
   "outputs": [],
   "source": [
    "def text_process(text):\n",
    "    ws = text.split(' ')\n",
    "    if(len(ws)>500):\n",
    "        text = ' '.join(ws[:500]) + ' ' + ' '.join(ws[-12:])\n",
    "    return text"
   ]
  },
  {
   "cell_type": "code",
   "execution_count": 5,
   "id": "cf4ceba1-5b2c-4461-9fd4-4401c6269c2a",
   "metadata": {},
   "outputs": [],
   "source": [
    "y_train = train[[\"Sub1_Toxic\",\"Sub2_Engaging\",\"Sub3_FactClaiming\"]].values\n",
    "X_train = train['text'].apply(lambda x: text_process(str(x))).fillna(\"etwas\").values.tolist()\n",
    "X_test = test['text'].apply(lambda x: text_process(str(x))).fillna(\"etwas\").values.tolist()"
   ]
  },
  {
   "cell_type": "code",
   "execution_count": 6,
   "id": "96ed4955-89c8-4041-8318-c21095040964",
   "metadata": {},
   "outputs": [],
   "source": [
    "def tokenize_sentences(sentences, tokenizer, max_seq_len = 128):\n",
    "    tokenized_sentences = []\n",
    "\n",
    "    for sentence in tqdm(sentences):\n",
    "        tokenized_sentence = tokenizer.encode(\n",
    "                            sentence,\n",
    "                            truncation=True,               \n",
    "                            add_special_tokens = True, \n",
    "                            max_length = max_seq_len,\n",
    "                    )\n",
    "        \n",
    "        tokenized_sentences.append(tokenized_sentence)\n",
    "\n",
    "    return np.array(tokenized_sentences)\n",
    "\n",
    "def create_attention_masks(tokenized_and_padded_sentences):\n",
    "    attention_masks = []\n",
    "\n",
    "    for sentence in tokenized_and_padded_sentences:\n",
    "        att_mask = [int(token_id > 0) for token_id in sentence]\n",
    "        attention_masks.append(att_mask)\n",
    "\n",
    "    return np.asarray(attention_masks)\n",
    "def regular_encode(texts,tokenizer,maxlen=MAX_LEN):\n",
    "  input_ids = tokenize_sentences(texts, tokenizer, MAX_LEN)\n",
    "  input_ids = pad_sequences(input_ids, maxlen=MAX_LEN, dtype=\"long\", value=0, truncating=\"post\", padding=\"post\")\n",
    "  attention_masks = create_attention_masks(input_ids)\n",
    "  return input_ids,attention_masks"
   ]
  },
  {
   "cell_type": "code",
   "execution_count": 7,
   "id": "2cea9cf5-945a-4835-82bd-25a4f91b77aa",
   "metadata": {},
   "outputs": [
    {
     "data": {
      "application/vnd.jupyter.widget-view+json": {
       "model_id": "a336f460bade41ad83b944be908341fa",
       "version_major": 2,
       "version_minor": 0
      },
      "text/plain": [
       "  0%|          | 0/944 [00:00<?, ?it/s]"
      ]
     },
     "metadata": {},
     "output_type": "display_data"
    },
    {
     "data": {
      "application/vnd.jupyter.widget-view+json": {
       "model_id": "23cd57f83d914d6c9efd0fbbed4e4cd2",
       "version_major": 2,
       "version_minor": 0
      },
      "text/plain": [
       "  0%|          | 0/3316 [00:00<?, ?it/s]"
      ]
     },
     "metadata": {},
     "output_type": "display_data"
    }
   ],
   "source": [
    "x_test,x_test_att = regular_encode(X_test, tokenizer, maxlen=MAX_LEN)\n",
    "x_train,x_train_att = regular_encode(X_train,tokenizer,maxlen=MAX_LEN)"
   ]
  },
  {
   "cell_type": "code",
   "execution_count": 8,
   "id": "c4f07381-f55f-4fec-8149-1164895c54ff",
   "metadata": {},
   "outputs": [],
   "source": [
    "class RocAucEvaluation(Callback):\n",
    "    def __init__(self, validation_data=(), interval=1):\n",
    "        super(Callback, self).__init__()\n",
    "        self.interval = interval\n",
    "        self.X_val, self.y_val = validation_data\n",
    "        self.max_score = 0\n",
    "        self.not_better_count = 0\n",
    "\n",
    "    def on_epoch_end(self, epoch, logs={}):\n",
    "        if epoch % self.interval == 0:\n",
    "            y_pred = self.model.predict(self.X_val, verbose=1)\n",
    "            score = roc_auc_score(self.y_val, y_pred)\n",
    "            print(\"\\n ROC-AUC - epoch: %d - score: %.6f \\n\" % (epoch+1, score))\n",
    "            if (score > self.max_score):\n",
    "                print(\"*** New High Score (previous: %.6f) \\n\" % self.max_score)\n",
    "                model.save_weights(\"../checkpoints/ccaps_weights.h5\")\n",
    "                self.max_score=score\n",
    "                self.not_better_count = 0\n",
    "            else:\n",
    "                self.not_better_count += 1\n",
    "                if self.not_better_count > 3:\n",
    "                    print(\"Epoch %05d: early stopping, high score = %.6f\" % (epoch,self.max_score))\n",
    "                    self.model.stop_training = True"
   ]
  },
  {
   "cell_type": "code",
   "execution_count": 9,
   "id": "c2b4c125-2c53-4f24-ad88-81dfd63dc4ed",
   "metadata": {},
   "outputs": [],
   "source": [
    "gru_len = 128\n",
    "Routings = 5\n",
    "Num_capsule = 10\n",
    "Dim_capsule = 16\n",
    "dropout_p = 0.25\n",
    "rate_drop_dense = 0.28\n",
    "from tensorflow.keras.layers import Activation, Layer\n",
    "from tensorflow.keras.layers import Dropout, Bidirectional, GRU, Flatten\n",
    "\n",
    "def squash(x, axis=-1):\n",
    "    s_squared_norm = K.sum(K.square(x), axis, keepdims=True) + K.epsilon()\n",
    "    scale = K.sqrt(s_squared_norm) / (0.5 + s_squared_norm)\n",
    "    return scale * x\n",
    "class Capsule(Layer):\n",
    "    def __init__(self,\n",
    "                 num_capsule,\n",
    "                 dim_capsule,\n",
    "                 routings=3,\n",
    "                 share_weights=True,\n",
    "                 initializer='glorot_uniform',\n",
    "                 activation=None,\n",
    "                 regularizer=None,\n",
    "                 constraint=None,\n",
    "                 **kwargs):\n",
    "        super(Capsule, self).__init__(**kwargs)\n",
    "        self.num_capsule = num_capsule\n",
    "        self.dim_capsule = dim_capsule\n",
    "        self.routings = routings\n",
    "        self.share_weights = share_weights\n",
    "        self.activation = tf.keras.activations.get(activation)\n",
    "        self.regularizer = tf.keras.regularizers.get(regularizer)\n",
    "        self.initializer = tf.keras.initializers.get(initializer)\n",
    "        self.constraint = tf.keras.constraints.get(constraint)\n",
    "    def build(self, input_shape):\n",
    "        input_dim_capsule = input_shape[-1]\n",
    "        if self.share_weights:\n",
    "            self.W = self.add_weight(name='capsule_kernel',\n",
    "                                     shape=(1,\n",
    "                                            input_dim_capsule,\n",
    "                                            self.num_capsule *\n",
    "                                            self.dim_capsule),\n",
    "                                     initializer=self.initializer,\n",
    "                                     regularizer=self.regularizer,\n",
    "                                     constraint=self.constraint,\n",
    "                                     trainable=True)\n",
    "        else:\n",
    "            input_num_capsule = input_shape[-2]\n",
    "            self.W = self.add_weight(name='capsule_kernel',\n",
    "                                     shape=(input_num_capsule,\n",
    "                                     input_dim_capsule,\n",
    "                                     self.num_capsule *\n",
    "                                     self.dim_capsule),\n",
    "                                     initializer=self.initializer,\n",
    "                                     regularizer=self.regularizer,\n",
    "                                     constraint=self.constraint,\n",
    "                                     trainable=True)\n",
    "            self.build = True\n",
    "    def call(self, inputs):\n",
    "      if self.share_weights:\n",
    "        u_hat_vectors = K.conv1d(inputs, self.W)\n",
    "      else:\n",
    "          u_hat_vectors = K.local_conv1d(inputs, self.W, [1], [1])\n",
    "      batch_size = K.shape(inputs)[0]\n",
    "      input_num_capsule = K.shape(inputs)[1]\n",
    "      u_hat_vectors = K.reshape(u_hat_vectors, (batch_size,\n",
    "                                                input_num_capsule,\n",
    "                                                self.num_capsule,\n",
    "                                                self.dim_capsule))\n",
    "      u_hat_vectors = K.permute_dimensions(u_hat_vectors, (0, 2, 1, 3))\n",
    "      routing_weights = K.zeros_like(u_hat_vectors[:, :, :, 0])\n",
    "      for i in range(self.routings):\n",
    "          capsule_weights = K.softmax(routing_weights, 1)\n",
    "          outputs = K.batch_dot(capsule_weights, u_hat_vectors, [2, 2])\n",
    "          if K.ndim(outputs) == 4:\n",
    "              outputs = K.sum(outputs, axis=1)\n",
    "          if i < self.routings - 1:\n",
    "              outputs = K.l2_normalize(outputs, -1)\n",
    "              routing_weights = K.batch_dot(outputs, u_hat_vectors, [2, 3])\n",
    "              if K.ndim(routing_weights) == 4:\n",
    "                  routing_weights = K.sum(routing_weights, axis=1)\n",
    "      return self.activation(outputs)\n",
    "    def compute_output_shape(self, input_shape):\n",
    "      return (None, self.num_capsule, self.dim_capsule)"
   ]
  },
  {
   "cell_type": "code",
   "execution_count": 10,
   "id": "3eb7e6bb-b604-478f-bf16-3fa9605ad44b",
   "metadata": {},
   "outputs": [],
   "source": [
    "def get_model(bert_model, features ,clipvalue=1.,num_filters=40,dropout=0.5,max_len=512):\n",
    "    import tensorflow as tf\n",
    "    features_input = Input(shape=(features.shape[1],))\n",
    "    input_ids = Input(shape=(max_len,), dtype=tf.int32, name=\"input_word_ids\")\n",
    "    attention_masks = Input(shape=(max_len,), dtype=tf.int32, name=\"input_att_masks\")\n",
    "    bert_output = bert_model(input_ids, attention_mask=attention_masks)\n",
    "    hidden_states= bert_output.hidden_states\n",
    "    last_four_layers = [hidden_states[i] for i in (-1, -2, -3, -4)]\n",
    "    x= tf.concat(last_four_layers,-1)\n",
    "    x = Bidirectional(\n",
    "        GRU(gru_len, activation='relu', dropout=dropout_p, recurrent_dropout=dropout_p, return_sequences=True))(\n",
    "        x)\n",
    "    embedding = SpatialDropout1D(0.3)(x)\n",
    "    capsule = Capsule(num_capsule=5, dim_capsule=5,\n",
    "                      routings=4, activation=squash)(embedding)\n",
    "    capsule = Flatten()(capsule)\n",
    "    capsule = Dropout(dropout_p)(capsule)\n",
    "    conc = concatenate([capsule,features_input])\n",
    "    outp = Dense(3, activation=\"sigmoid\")(conc)\n",
    "    model = Model(inputs=[input_ids,attention_masks,features_input], outputs=outp)\n",
    "    import tensorflow as tf\n",
    "    adam = tf.optimizers.Adam(clipvalue=clipvalue)\n",
    "    model.compile(loss='binary_crossentropy',\n",
    "                  optimizer=adam,\n",
    "                  metrics=['accuracy'])\n",
    "    for layer in model.layers[:3]:\n",
    "      layer.trainable=False\n",
    "    return model"
   ]
  },
  {
   "cell_type": "code",
   "execution_count": null,
   "id": "33507864-1be7-478e-94a9-5819c5c4b397",
   "metadata": {},
   "outputs": [
    {
     "name": "stderr",
     "output_type": "stream",
     "text": [
      "Some layers from the model checkpoint at dbmdz/bert-base-german-uncased were not used when initializing TFBertModel: ['mlm___cls', 'nsp___cls']\n",
      "- This IS expected if you are initializing TFBertModel from the checkpoint of a model trained on another task or with another architecture (e.g. initializing a BertForSequenceClassification model from a BertForPreTraining model).\n",
      "- This IS NOT expected if you are initializing TFBertModel from the checkpoint of a model that you expect to be exactly identical (initializing a BertForSequenceClassification model from a BertForSequenceClassification model).\n",
      "All the layers of TFBertModel were initialized from the model checkpoint at dbmdz/bert-base-german-uncased.\n",
      "If your task is similar to the task the model of the checkpoint was trained on, you can already use TFBertModel for predictions without further training.\n"
     ]
    }
   ],
   "source": [
    "transformer_layer = TFAutoModel.from_pretrained(bert_model_name, output_hidden_states=True)\n",
    "for layer in transformer_layer.layers:\n",
    "      layer.trainable=False\n",
    "      for w in layer.weights:\n",
    "        w._trainable=False\n",
    "transformer_layer.compile()\n",
    "model = get_model(transformer_layer, features)\n",
    "model.summary()\n",
    "epochs = 100\n",
    "gc.collect()\n",
    "K.clear_session()\n",
    "\n",
    "num_folds = 10\n",
    "\n",
    "predict = np.zeros((test.shape[0],3))\n",
    "\n",
    "kf = KFold(n_splits=num_folds, shuffle=True, random_state=239)\n",
    "x_train=np.asarray(x_train).astype(np.float32)\n",
    "x_test=np.asarray(x_test).astype(np.float32)\n",
    "for train_index, test_index in kf.split(x_train):\n",
    "    \n",
    "    kfold_y_train,kfold_y_test = y_train[train_index], y_train[test_index]\n",
    "    kfold_X_train = x_train[train_index]\n",
    "    kfold_X_train_att = x_train_att[train_index]\n",
    "    kfold_X_features = features[train_index]\n",
    "    kfold_X_valid = x_train[test_index]\n",
    "    kfold_X_valid_att = x_train_att[test_index]\n",
    "    kfold_X_valid_features = features[test_index] \n",
    "    gc.collect()\n",
    "    K.clear_session()\n",
    "    model = get_model(transformer_layer, features)\n",
    "    ra_val = RocAucEvaluation(validation_data=([kfold_X_valid,kfold_X_valid_att,kfold_X_valid_features], kfold_y_test), interval = 1)\n",
    "    \n",
    "    model.fit([kfold_X_train,kfold_X_train_att,kfold_X_features], kfold_y_train, batch_size=BATCH_SIZE, epochs=epochs, verbose=1,\n",
    "            callbacks = [ra_val])\n",
    "    gc.collect()\n",
    "    model.load_weights(\"../checkpoints/ccaps_weights.h5\")\n",
    "    \n",
    "    predict += model.predict([x_test,x_test_att,test_features], batch_size=BATCH_SIZE,verbose=1) / num_folds\n",
    "print(\"Done\")"
   ]
  },
  {
   "cell_type": "code",
   "execution_count": null,
   "id": "1c6fa558-15dd-44c5-951f-39185e5e11e9",
   "metadata": {},
   "outputs": [],
   "source": [
    "test[[\"1\",\"2\",\"3\"]]=predict\n",
    "test[[\"1\",\"2\",\"3\"]].to_csv(\"../submissions/cbert-caps-p.csv\")\n",
    "test[[\"1\",\"2\",\"3\"]]=predict.round(0).astype(int)\n",
    "test[[\"1\",\"2\",\"3\"]].to_csv(\"../submissions/cbert-caps.csv\")"
   ]
  },
  {
   "cell_type": "code",
   "execution_count": null,
   "id": "db67a910-1ab2-4fed-8d97-af80cb99a261",
   "metadata": {},
   "outputs": [],
   "source": [
    "! rm -rf ../checkpoints/ccaps_weights.h5"
   ]
  },
  {
   "cell_type": "code",
   "execution_count": null,
   "id": "b133f74b-30d1-4474-88c5-575a3a94992d",
   "metadata": {},
   "outputs": [],
   "source": []
  }
 ],
 "metadata": {
  "kernelspec": {
   "display_name": "Python 3",
   "language": "python",
   "name": "python3"
  },
  "language_info": {
   "codemirror_mode": {
    "name": "ipython",
    "version": 3
   },
   "file_extension": ".py",
   "mimetype": "text/x-python",
   "name": "python",
   "nbconvert_exporter": "python",
   "pygments_lexer": "ipython3",
   "version": "3.7.10"
  }
 },
 "nbformat": 4,
 "nbformat_minor": 5
}
